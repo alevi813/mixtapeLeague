{
 "cells": [
  {
   "cell_type": "code",
   "execution_count": 1,
   "metadata": {},
   "outputs": [],
   "source": [
    "# import numpy, pandas, spotipy\n",
    "import numpy as np\n",
    "import pandas as pd\n",
    "\n",
    "import spotipy\n",
    "from spotipy.oauth2 import SpotifyClientCredentials\n",
    "client_credentials_manager = SpotifyClientCredentials(client_id= '6426e18767ac42d78a9c08f41cacba65',\n",
    "                                                     client_secret= '4a2cdab50e1c4ecd9fc62cae20664e29')\n",
    "sp = spotipy.Spotify(client_credentials_manager=client_credentials_manager)"
   ]
  },
  {
   "cell_type": "code",
   "execution_count": 2,
   "metadata": {},
   "outputs": [],
   "source": [
    "# read in data from excel sheet, do a bit of cleanup\n",
    "fullMix = pd.read_excel('/Users/aaronlevi/Documents/fantasyMixtape.xlsx', sheet_name=0)\n",
    "fullMix.drop([0], axis=0, inplace=True)\n",
    "\n",
    "# preallocate empty fields\n",
    "songNames   = {}\n",
    "artistNames = {}\n",
    "songURI     = {}\n",
    "spotFeatures = {}\n",
    "\n",
    "spotFeatures['acousticness'] = []\n",
    "spotFeatures['danceability'] = []\n",
    "spotFeatures['energy'] = []\n",
    "spotFeatures['instrumentalness'] = []\n",
    "spotFeatures['liveness'] = []\n",
    "spotFeatures['loudness'] = []\n",
    "spotFeatures['speechiness'] = []\n",
    "spotFeatures['tempo'] = []\n",
    "spotFeatures['valence'] = []\n",
    "spotFeatures['popularity'] = []\n",
    "\n",
    "songName   = fullMix['Unnamed: 1'][1].split(' - ')[1]\n",
    "artistName = fullMix['Unnamed: 1'][1].split(' - ')[0]\n",
    "\n",
    "result = sp.search(songName) #search query\n",
    "nItems = len(result['tracks']['items'])\n",
    "\n",
    "for iArtist in range(0, nItems):    \n",
    "    if result['tracks']['items'][iArtist]['artists'][0]['name'] == artistName:\n",
    "       songURI = result['tracks']['items'][iArtist]['uri']\n",
    "        \n"
   ]
  },
  {
   "cell_type": "code",
   "execution_count": null,
   "metadata": {},
   "outputs": [],
   "source": [
    "# pull audio features for a songURI\n",
    "features = sp.audio_features(songURI)\n",
    "\n",
    "# append relevant values\n",
    "spotFeatures['acousticness'].append(features[0]['acousticness'])\n",
    "spotFeatures['danceability'].append(features[0]['danceability'])\n",
    "spotFeatures['energy'].append(features[0]['energy'])\n",
    "spotFeatures['instrumentalness'].append(features[0]['instrumentalness'])\n",
    "spotFeatures['liveness'].append(features[0]['liveness'])\n",
    "spotFeatures['loudness'].append(features[0]['loudness'])\n",
    "spotFeatures['speechiness'].append(features[0]['speechiness'])\n",
    "spotFeatures['tempo'].append(features[0]['tempo'])\n",
    "spotFeatures['valence'].append(features[0]['valence']) \n",
    "\n",
    "# get 'popularity' from original track info, not the features function\n",
    "spotFeatures['popularity'].append(sp.track(songURI)['popularity'])"
   ]
  }
 ],
 "metadata": {
  "kernelspec": {
   "display_name": "Python 3",
   "language": "python",
   "name": "python3"
  },
  "language_info": {
   "codemirror_mode": {
    "name": "ipython",
    "version": 3
   },
   "file_extension": ".py",
   "mimetype": "text/x-python",
   "name": "python",
   "nbconvert_exporter": "python",
   "pygments_lexer": "ipython3",
   "version": "3.7.3"
  }
 },
 "nbformat": 4,
 "nbformat_minor": 2
}
