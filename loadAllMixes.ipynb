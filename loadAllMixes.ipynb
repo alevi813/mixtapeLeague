{
 "cells": [
  {
   "cell_type": "code",
   "execution_count": 1,
   "metadata": {},
   "outputs": [],
   "source": [
    "# import numpy, pandas, spotipy\n",
    "import numpy as np\n",
    "import pandas as pd\n",
    "import tensorflow as tf\n",
    "import matplotlib.pyplot as plt \n",
    "import seaborn as sns\n",
    "\n",
    "import spotipy\n",
    "from spotipy.oauth2 import SpotifyClientCredentials\n",
    "client_credentials_manager = SpotifyClientCredentials(client_id= '6426e18767ac42d78a9c08f41cacba65',\n",
    "                                                     client_secret= '4a2cdab50e1c4ecd9fc62cae20664e29')\n",
    "sp = spotipy.Spotify(client_credentials_manager=client_credentials_manager)"
   ]
  },
  {
   "cell_type": "code",
   "execution_count": 19,
   "metadata": {},
   "outputs": [],
   "source": [
    "# read in data from excel sheet, do a bit of cleanup\n",
    "allMixes = pd.ExcelFile('/Users/aaronlevi/Documents/fantasyMixtape.xlsx')\n",
    "nMixes   = len(allMixes.sheet_names)\n",
    "\n",
    "allSongs = []\n",
    "\n",
    "for kMix in range(0,nMixes):\n",
    "    thisMix = pd.read_excel('/Users/aaronlevi/Documents/fantasyMixtape.xlsx', sheet_name=kMix)\n",
    "    #thisMix.drop([0], axis=0, inplace=True)\n",
    "    \n",
    "    if kMix > 0:\n",
    "        thisMix.rename({0: 2, 2: 4}, axis='index')\n",
    "    \n",
    "    allSongs.append(thisMix)\n",
    "    \n",
    "allSongs = pd.concat(allSongs)\n",
    "allSongs.index = range(0, 264)"
   ]
  },
  {
   "cell_type": "code",
   "execution_count": 42,
   "metadata": {},
   "outputs": [],
   "source": []
  },
  {
   "cell_type": "code",
   "execution_count": null,
   "metadata": {},
   "outputs": [],
   "source": []
  }
 ],
 "metadata": {
  "kernelspec": {
   "display_name": "Python 3",
   "language": "python",
   "name": "python3"
  },
  "language_info": {
   "codemirror_mode": {
    "name": "ipython",
    "version": 3
   },
   "file_extension": ".py",
   "mimetype": "text/x-python",
   "name": "python",
   "nbconvert_exporter": "python",
   "pygments_lexer": "ipython3",
   "version": "3.7.3"
  }
 },
 "nbformat": 4,
 "nbformat_minor": 2
}
